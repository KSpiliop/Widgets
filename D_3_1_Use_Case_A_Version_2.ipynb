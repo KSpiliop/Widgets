{
 "cells": [
  {
   "cell_type": "markdown",
   "metadata": {},
   "source": [
    "# Note: Please run all cells once. When the widgets are ready for use, the notebook will automatically hide all code chunks and ... voila!!! #\n",
    "***"
   ]
  },
  {
   "cell_type": "markdown",
   "metadata": {
    "extensions": {
     "jupyter_dashboards": {
      "version": 1,
      "views": {
       "default_view": {
        "col": 0,
        "height": 4,
        "row": 0,
        "width": 12
       }
      }
     }
    },
    "id": "b749kSQbXgd3"
   },
   "source": [
    "# Use case A \n",
    "### “Asset querying” – Making the most of internal data assets in their multiple forms\n"
   ]
  },
  {
   "cell_type": "markdown",
   "metadata": {
    "extensions": {
     "jupyter_dashboards": {
      "version": 1,
      "views": {
       "default_view": {
        "col": 0,
        "height": 3,
        "row": 4,
        "width": 12
       }
      }
     }
    },
    "id": "jMNe51AXXgd4"
   },
   "source": [
    "The Use Case A is the ability to annotate and enrich content from the Knowledge Database.\n",
    "A user makes a query to the Eurostat Website, this query goes through a tool that is in direct relation with KDB. The KDB is used to enriched documents from the Eurostat Website, and the product of these enrich documents will be the answer to the query made by the user. \n"
   ]
  },
  {
   "cell_type": "markdown",
   "metadata": {
    "extensions": {
     "jupyter_dashboards": {
      "version": 1,
      "views": {
       "default_view": {
        "col": 0,
        "height": 3,
        "row": 7,
        "width": 12
       }
      }
     }
    },
    "id": "ZWsTozcSXgd6"
   },
   "source": [
    "The query made by the user will either be a query builder, a faceted search, a data exploration or a visual data browsing. As presented in the schema above, the two first solutions, query builders and faceted search are about looking into specific content, while the two latter, data exploration and visual data browsing (graphical navigation) are more used to provide a general idea of the content inside the data. "
   ]
  },
  {
   "cell_type": "markdown",
   "metadata": {
    "extensions": {
     "jupyter_dashboards": {
      "version": 1,
      "views": {
       "default_view": {
        "col": 0,
        "height": 3,
        "row": 13,
        "width": 12
       }
      }
     }
    },
    "id": "zGT0avmoXgd9"
   },
   "source": [
    "### Scenario A: Query Builder\n",
    "***\n"
   ]
  },
  {
   "cell_type": "markdown",
   "metadata": {
    "extensions": {
     "jupyter_dashboards": {
      "version": 1,
      "views": {
       "default_view": {
        "col": 0,
        "height": 2,
        "row": 16,
        "width": 12
       }
      }
     }
    },
    "id": "RKVHEXL_Xgd-"
   },
   "source": [
    "A query builder is a program that builds a query from a set of parameters designed to perform a search in a specific database.I the libraries are loaded and the data related to the statistical articles are uploaded."
   ]
  },
  {
   "cell_type": "code",
   "execution_count": 1,
   "metadata": {},
   "outputs": [
    {
     "data": {
      "text/html": [
       "<style>.container { width:100% !important; }</style>"
      ],
      "text/plain": [
       "<IPython.core.display.HTML object>"
      ]
     },
     "metadata": {},
     "output_type": "display_data"
    },
    {
     "name": "stdout",
     "output_type": "stream",
     "text": [
      "Requirement already satisfied: en-core-web-md==3.0.0 from https://github.com/explosion/spacy-models/releases/download/en_core_web_md-3.0.0/en_core_web_md-3.0.0-py3-none-any.whl#egg=en_core_web_md==3.0.0 in d:\\programdata\\anaconda3\\lib\\site-packages (3.0.0)\n",
      "Requirement already satisfied: spacy<3.1.0,>=3.0.0 in d:\\programdata\\anaconda3\\lib\\site-packages (from en-core-web-md==3.0.0) (3.0.3)\n",
      "Requirement already satisfied: pydantic<1.8.0,>=1.7.1 in d:\\programdata\\anaconda3\\lib\\site-packages (from spacy<3.1.0,>=3.0.0->en-core-web-md==3.0.0) (1.7.3)\n",
      "Requirement already satisfied: setuptools in d:\\programdata\\anaconda3\\lib\\site-packages (from spacy<3.1.0,>=3.0.0->en-core-web-md==3.0.0) (50.3.1.post20201107)\n",
      "Requirement already satisfied: srsly<3.0.0,>=2.4.0 in d:\\programdata\\anaconda3\\lib\\site-packages (from spacy<3.1.0,>=3.0.0->en-core-web-md==3.0.0) (2.4.0)\n",
      "Requirement already satisfied: pathy in d:\\programdata\\anaconda3\\lib\\site-packages (from spacy<3.1.0,>=3.0.0->en-core-web-md==3.0.0) (0.3.5)\n",
      "Requirement already satisfied: preshed<3.1.0,>=3.0.2 in d:\\programdata\\anaconda3\\lib\\site-packages (from spacy<3.1.0,>=3.0.0->en-core-web-md==3.0.0) (3.0.5)\n",
      "Requirement already satisfied: requests<3.0.0,>=2.13.0 in d:\\programdata\\anaconda3\\lib\\site-packages (from spacy<3.1.0,>=3.0.0->en-core-web-md==3.0.0) (2.24.0)\n",
      "Requirement already satisfied: cymem<2.1.0,>=2.0.2 in d:\\programdata\\anaconda3\\lib\\site-packages (from spacy<3.1.0,>=3.0.0->en-core-web-md==3.0.0) (2.0.5)\n",
      "Requirement already satisfied: spacy-legacy<3.1.0,>=3.0.0 in d:\\programdata\\anaconda3\\lib\\site-packages (from spacy<3.1.0,>=3.0.0->en-core-web-md==3.0.0) (3.0.1)\n",
      "Requirement already satisfied: packaging>=20.0 in d:\\programdata\\anaconda3\\lib\\site-packages (from spacy<3.1.0,>=3.0.0->en-core-web-md==3.0.0) (20.4)\n",
      "Requirement already satisfied: tqdm<5.0.0,>=4.38.0 in d:\\programdata\\anaconda3\\lib\\site-packages (from spacy<3.1.0,>=3.0.0->en-core-web-md==3.0.0) (4.50.2)\n",
      "Requirement already satisfied: wasabi<1.1.0,>=0.8.1 in d:\\programdata\\anaconda3\\lib\\site-packages (from spacy<3.1.0,>=3.0.0->en-core-web-md==3.0.0) (0.8.2)\n",
      "Requirement already satisfied: jinja2 in d:\\programdata\\anaconda3\\lib\\site-packages (from spacy<3.1.0,>=3.0.0->en-core-web-md==3.0.0) (2.11.2)\n",
      "Requirement already satisfied: blis<0.8.0,>=0.4.0 in d:\\programdata\\anaconda3\\lib\\site-packages (from spacy<3.1.0,>=3.0.0->en-core-web-md==3.0.0) (0.7.4)\n",
      "Requirement already satisfied: numpy>=1.15.0 in d:\\programdata\\anaconda3\\lib\\site-packages (from spacy<3.1.0,>=3.0.0->en-core-web-md==3.0.0) (1.19.2)\n",
      "Requirement already satisfied: typer<0.4.0,>=0.3.0 in d:\\programdata\\anaconda3\\lib\\site-packages (from spacy<3.1.0,>=3.0.0->en-core-web-md==3.0.0) (0.3.2)\n",
      "Requirement already satisfied: catalogue<2.1.0,>=2.0.1 in d:\\programdata\\anaconda3\\lib\\site-packages (from spacy<3.1.0,>=3.0.0->en-core-web-md==3.0.0) (2.0.1)\n",
      "Requirement already satisfied: murmurhash<1.1.0,>=0.28.0 in d:\\programdata\\anaconda3\\lib\\site-packages (from spacy<3.1.0,>=3.0.0->en-core-web-md==3.0.0) (1.0.5)\n",
      "Requirement already satisfied: thinc<8.1.0,>=8.0.0 in d:\\programdata\\anaconda3\\lib\\site-packages (from spacy<3.1.0,>=3.0.0->en-core-web-md==3.0.0) (8.0.1)\n",
      "Requirement already satisfied: smart-open<4.0.0,>=2.2.0 in d:\\programdata\\anaconda3\\lib\\site-packages (from pathy->spacy<3.1.0,>=3.0.0->en-core-web-md==3.0.0) (2.2.1)\n",
      "Requirement already satisfied: urllib3!=1.25.0,!=1.25.1,<1.26,>=1.21.1 in d:\\programdata\\anaconda3\\lib\\site-packages (from requests<3.0.0,>=2.13.0->spacy<3.1.0,>=3.0.0->en-core-web-md==3.0.0) (1.25.11)\n",
      "Requirement already satisfied: certifi>=2017.4.17 in d:\\programdata\\anaconda3\\lib\\site-packages (from requests<3.0.0,>=2.13.0->spacy<3.1.0,>=3.0.0->en-core-web-md==3.0.0) (2020.6.20)\n",
      "Requirement already satisfied: chardet<4,>=3.0.2 in d:\\programdata\\anaconda3\\lib\\site-packages (from requests<3.0.0,>=2.13.0->spacy<3.1.0,>=3.0.0->en-core-web-md==3.0.0) (3.0.4)\n",
      "Requirement already satisfied: idna<3,>=2.5 in d:\\programdata\\anaconda3\\lib\\site-packages (from requests<3.0.0,>=2.13.0->spacy<3.1.0,>=3.0.0->en-core-web-md==3.0.0) (2.10)\n",
      "Requirement already satisfied: six in d:\\programdata\\anaconda3\\lib\\site-packages (from packaging>=20.0->spacy<3.1.0,>=3.0.0->en-core-web-md==3.0.0) (1.15.0)\n",
      "Requirement already satisfied: pyparsing>=2.0.2 in d:\\programdata\\anaconda3\\lib\\site-packages (from packaging>=20.0->spacy<3.1.0,>=3.0.0->en-core-web-md==3.0.0) (2.4.7)\n",
      "Requirement already satisfied: MarkupSafe>=0.23 in d:\\programdata\\anaconda3\\lib\\site-packages (from jinja2->spacy<3.1.0,>=3.0.0->en-core-web-md==3.0.0) (1.1.1)\n",
      "Requirement already satisfied: click<7.2.0,>=7.1.1 in d:\\programdata\\anaconda3\\lib\\site-packages (from typer<0.4.0,>=0.3.0->spacy<3.1.0,>=3.0.0->en-core-web-md==3.0.0) (7.1.2)\n",
      "Requirement already satisfied: boto3 in d:\\programdata\\anaconda3\\lib\\site-packages (from smart-open<4.0.0,>=2.2.0->pathy->spacy<3.1.0,>=3.0.0->en-core-web-md==3.0.0) (1.17.7)\n",
      "Requirement already satisfied: s3transfer<0.4.0,>=0.3.0 in d:\\programdata\\anaconda3\\lib\\site-packages (from boto3->smart-open<4.0.0,>=2.2.0->pathy->spacy<3.1.0,>=3.0.0->en-core-web-md==3.0.0) (0.3.4)\n",
      "Requirement already satisfied: jmespath<1.0.0,>=0.7.1 in d:\\programdata\\anaconda3\\lib\\site-packages (from boto3->smart-open<4.0.0,>=2.2.0->pathy->spacy<3.1.0,>=3.0.0->en-core-web-md==3.0.0) (0.10.0)\n",
      "Requirement already satisfied: botocore<1.21.0,>=1.20.7 in d:\\programdata\\anaconda3\\lib\\site-packages (from boto3->smart-open<4.0.0,>=2.2.0->pathy->spacy<3.1.0,>=3.0.0->en-core-web-md==3.0.0) (1.20.7)\n",
      "Requirement already satisfied: python-dateutil<3.0.0,>=2.1 in d:\\programdata\\anaconda3\\lib\\site-packages (from botocore<1.21.0,>=1.20.7->boto3->smart-open<4.0.0,>=2.2.0->pathy->spacy<3.1.0,>=3.0.0->en-core-web-md==3.0.0) (2.8.1)\n",
      "[+] Download and installation successful\n",
      "You can now load the package via spacy.load('en_core_web_md')\n",
      "Finished loading.\n"
     ]
    }
   ],
   "source": [
    "#Load libraries\n",
    "import pandas as pd\n",
    "from pandas import read_excel\n",
    "import numpy as np \n",
    "import os\n",
    "##import ee\n",
    "##import string \n",
    "\n",
    "#Widgets libraries\n",
    "\n",
    "import ipywidgets\n",
    "import ipywidgets as widgets\n",
    "from ipywidgets import interact,Layout, IntSlider, interactive, widgets, interact_manual,HBox,fixed,VBox, Box, HTML\n",
    "from ipywidgets import Button, FloatText, Textarea, Dropdown, Label\n",
    "from ipywidgets import interact_manual\n",
    "layout = widgets.Layout(width='400px', height='30px')\n",
    "\n",
    "import warnings\n",
    "warnings.filterwarnings(\"ignore\",category=DeprecationWarning)\n",
    "\n",
    "pd.set_option('display.max_rows' , 1000)\n",
    "pd.set_option('display.max_columns' , 1000)\n",
    "pd.options.display.float_format = \"{:.2f}\".format\n",
    "\n",
    "##from sklearn.feature_extraction import text\n",
    "##from sklearn.feature_extraction.text import CountVectorizer, TfidfVectorizer\n",
    "##from sklearn.decomposition import LatentDirichletAllocation\n",
    "\n",
    "import scispacy\n",
    "#import spacy\n",
    "#import en_core_sci_lg\n",
    "from scipy.spatial.distance import jensenshannon\n",
    "\n",
    "from IPython.display import HTML, display,clear_output\n",
    "from IPython.utils import io\n",
    "from IPython.core.display import display, HTML\n",
    "display(HTML(\"<style>.container { width:100% !important; }</style>\"))\n",
    "\n",
    "#from os.path import isfile\n",
    "from itertools import product\n",
    "import re\n",
    "import pprint\n",
    "from pprint import pprint\n",
    "import spacy\n",
    "import sys\n",
    "## Run to install the language library, then comment-out\n",
    "!{sys.executable} -m spacy download en_core_web_md\n",
    "\n",
    "nlp = spacy.load('en_core_web_md')\n",
    "print('Finished loading.')\n",
    "nlp.max_length = 3000000\n",
    "\n",
    "\n",
    "import logging\n",
    "logging.basicConfig(format='%(asctime)s : %(levelname)s : %(message)s', level=logging.ERROR)"
   ]
  },
  {
   "cell_type": "markdown",
   "metadata": {
    "extensions": {
     "jupyter_dashboards": {
      "version": 1,
      "views": {
       "default_view": {
        "col": 0,
        "height": 5,
        "row": 18,
        "width": 12
       }
      }
     }
    },
    "id": "yOnzuKEUXgeA"
   },
   "source": [
    "#### **Builder 1: Simple Keyword Searching**\n",
    "***\n",
    "The user inserts a keyword and this query structure finds articles including the keyword in the raw content of the article and then it returns the titles of the articles (related to the keyword) with their urls.\n",
    "\n",
    "We have created an interactive widget, where the user has the potential to change simultaneously the keyword, category and number of articles displayed."
   ]
  },
  {
   "cell_type": "code",
   "execution_count": 2,
   "metadata": {},
   "outputs": [],
   "source": [
    "data = pd.read_csv('data.csv')   \n",
    "##data"
   ]
  },
  {
   "cell_type": "code",
   "execution_count": 3,
   "metadata": {
    "extensions": {
     "jupyter_dashboards": {
      "version": 1,
      "views": {
       "default_view": {
        "hidden": true
       }
      }
     }
    },
    "id": "CpnpmFPYXgeD"
   },
   "outputs": [],
   "source": [
    "def change_top_articles(Top_articles, Keywords, categories):\n",
    "  \n",
    " \n",
    "  #Search by category in raw content\n",
    "  if Keywords == '':\n",
    "    print(\"\")\n",
    "  else:\n",
    "    if categories == \"All Categories\":\n",
    "      df1 = data[data['raw content'].str.contains(Keywords)]\n",
    "      if df1.title.count() == 0:\n",
    "        print(\"Not mathces found\")\n",
    "      else:\n",
    "        print(df1.title.count(),\" articles found\")\n",
    "        #output  \n",
    "        h = '<br/'.join(['<a href=\"' + l + '\" target=\"_blank\">'+ n for l,n in df1[[\"url\",\"title\"]][0:Top_articles].values])\n",
    "        return display(HTML( h))\n",
    "        #print(df1[:Top_articles.value])\n",
    "    \n",
    "     \n",
    "    else:\n",
    "      candidate = data[data['categories'].str.contains(categories)]\n",
    "      df1 = candidate[candidate['raw content'].str.contains(Keywords)]\n",
    "      if df1.title.count() == 0:\n",
    "        print(\"Not mathces found\")\n",
    "      else:\n",
    "        print(df1.title.count(),\" articles found\")\n",
    "        #print(df1[:Top_articles.value])\n",
    "        #output  \n",
    "        h = '<br/'.join(['<a href=\"' + l + '\" target=\"_blank\">'+ n for l,n in df1[[\"url\",\"title\"]][0:Top_articles].values])\n",
    "        return display(HTML( h))            "
   ]
  },
  {
   "cell_type": "code",
   "execution_count": 4,
   "metadata": {
    "extensions": {
     "jupyter_dashboards": {
      "version": 1,
      "views": {
       "default_view": {
        "hidden": true
       }
      }
     }
    },
    "id": "dcqB4zq_XgeD"
   },
   "outputs": [],
   "source": [
    "def query_build2():\n",
    "  style = {'description_width': 'initial'}\n",
    "  categories = widgets.Dropdown(\n",
    "      description='Select Category:',\n",
    "      options=['All Categories','Health', 'Tourism',  'Energy', 'Agriculture', 'World trade' ],\n",
    "      value='All Categories',\n",
    "      style=style\n",
    "  )\n",
    "\n",
    "  Top_articles = widgets.IntSlider(\n",
    "      description='  Top Articles:',\n",
    "      tooltip='maximum:',\n",
    "      value=5,\n",
    "      min=1, \n",
    "      max = 30,\n",
    "      style={'description_width': 'initial'}\n",
    "  )\n",
    "\n",
    "\n",
    "  Keywords = widgets.Text(\n",
    "      value='',\n",
    "      placeholder='Type something',\n",
    "      description='Keywords:',\n",
    "      disabled=False\n",
    "  )\n",
    "\n",
    "\n",
    "\n",
    "  ui = widgets.HBox([Keywords, categories, Top_articles])\n",
    "\n",
    "  out = widgets.interactive_output(change_top_articles, {'Top_articles': Top_articles, 'Keywords': Keywords, 'categories': categories})\n",
    "\n",
    "  display(ui, out)\n"
   ]
  },
  {
   "cell_type": "code",
   "execution_count": 5,
   "metadata": {
    "colab": {
     "referenced_widgets": [
      "c472331548094da79cf929dcc841fc15",
      "52ea6b2b452846e4b336f6cc40033da7"
     ]
    },
    "extensions": {
     "jupyter_dashboards": {
      "version": 1,
      "views": {
       "default_view": {
        "col": 0,
        "height": 4,
        "row": 23,
        "width": 12
       }
      }
     }
    },
    "id": "EhkwCMvoXgeE",
    "outputId": "ee9eaafd-d993-4b71-f320-efe64a8bb3aa"
   },
   "outputs": [
    {
     "data": {
      "application/vnd.jupyter.widget-view+json": {
       "model_id": "51743ca291d1402fb6a10cef9e5f9d9e",
       "version_major": 2,
       "version_minor": 0
      },
      "text/plain": [
       "HBox(children=(Text(value='', description='Keywords:', placeholder='Type something'), Dropdown(description='Se…"
      ]
     },
     "metadata": {},
     "output_type": "display_data"
    },
    {
     "data": {
      "application/vnd.jupyter.widget-view+json": {
       "model_id": "c7ca7ddd81c043d0809244c7270eef33",
       "version_major": 2,
       "version_minor": 0
      },
      "text/plain": [
       "Output()"
      ]
     },
     "metadata": {},
     "output_type": "display_data"
    }
   ],
   "source": [
    "query_build2()"
   ]
  },
  {
   "cell_type": "markdown",
   "metadata": {
    "extensions": {
     "jupyter_dashboards": {
      "version": 1,
      "views": {
       "default_view": {
        "col": 0,
        "height": 5,
        "row": 27,
        "width": 12
       }
      }
     }
    },
    "id": "QbbPP1uOXgeE"
   },
   "source": [
    "#### **Builder 2: Advanced Keyword Searching**\n",
    "***\n",
    "This query structure allows for advanced searching in terms of searching options. For example, the user can either search by titles, keywords related to the abstract or to the content of the article. An individual could also narrow down results by selecting a spesific category, year of the last update of the article and finally how many articles to display.\n",
    "\n",
    "We have created an interctive widget, where the user can shift from simple keyword searching (described in Builder 1)  to the advanced mode. There is still the potential for the user to change simultaneously the searching options."
   ]
  },
  {
   "cell_type": "code",
   "execution_count": 6,
   "metadata": {
    "extensions": {
     "jupyter_dashboards": {
      "version": 1,
      "views": {
       "default_view": {
        "hidden": true
       }
      }
     }
    },
    "id": "AqiB0eAQNqZg"
   },
   "outputs": [],
   "source": [
    "def AdvancedSearch(Top_articles, Keywords, categories, title, abstract):\n",
    "  #data = dat\n",
    "  # Search by Title\n",
    "  if title == '':\n",
    "    # Abstract if\n",
    "    if abstract == '':\n",
    "      # Keyword if\n",
    "      if Keywords == '':\n",
    "        print(\"\")\n",
    "\n",
    "      # Keywords == string\n",
    "      else:\n",
    "        if categories == \"All Categories\":\n",
    "          df1 = data[data['raw content'].str.contains(Keywords)]\n",
    "          if df1.title.count() == 0:\n",
    "            print(\"Not mathces found\")\n",
    "          else:\n",
    "            print(df1.title.count(),\" articles found\")\n",
    "            #output  \n",
    "            h = '<br/'.join(['<a href=\"' + l + '\" target=\"_blank\">'+ n for l,n in df1[[\"url\",\"title\"]][0:Top_articles].values])\n",
    "            return display(HTML( h))\n",
    "            #print(df1[:Top_articles.value])\n",
    "        \n",
    "        #Else for category = 'string'\n",
    "        else:\n",
    "          candidate = data[data['categories'].str.contains(categories)]\n",
    "          df1 = candidate[candidate['raw content'].str.contains(Keywords)]\n",
    "          if df1.title.count() == 0:\n",
    "            print(\"Not mathces found\")\n",
    "          else:\n",
    "            print(df1.title.count(),\" articles found\")\n",
    "            #print(df1[:Top_articles.value])\n",
    "            #output  \n",
    "            h = '<br/'.join(['<a href=\"' + l + '\" target=\"_blank\">'+ n for l,n in df1[[\"url\",\"title\"]][0:Top_articles].values])\n",
    "            return display(HTML( h))\n",
    "\n",
    "\n",
    "\n",
    "\n",
    "\n",
    "\n",
    "\n",
    "\n",
    "    # Else abstract ==string\n",
    "    else:\n",
    "      abstractArt = data[data['abstract'].str.contains(abstract)]\n",
    "\n",
    "      #Keywords if\n",
    "      if Keywords == '':\n",
    "        if categories == \"All Categories\":\n",
    "          \n",
    "          if abstractArt.title.count() == 0:\n",
    "            print(\"Not mathces found\")\n",
    "          else:\n",
    "            print(abstractArt.title.count(),\" articles found\")\n",
    "            #output  \n",
    "            h = '<br/'.join(['<a href=\"' + l + '\" target=\"_blank\">'+ n for l,n in abstractArt[[\"url\",\"title\"]][0:Top_articles].values])\n",
    "            return display(HTML( h))\n",
    "            \n",
    "        \n",
    "        #Else for category = 'string'\n",
    "        else:\n",
    "          candidate = abstractArt[abstractArt['categories'].str.contains(categories)]\n",
    "          if candidate.title.count() == 0:\n",
    "            print(\"Not mathces found\")\n",
    "          else:\n",
    "            print(candidate.title.count(),\" articles found\")\n",
    "            #print(df1[:Top_articles.value])\n",
    "            #output  \n",
    "            h = '<br/'.join(['<a href=\"' + l + '\" target=\"_blank\">'+ n for l,n in candidate[[\"url\",\"title\"]][0:Top_articles].values])\n",
    "            return display(HTML( h))\n",
    "\n",
    "\n",
    "      # else keywords == string\n",
    "      else:\n",
    "        KeywordArt = abstractArt[abstractArt['raw content'].str.contains(Keywords)]\n",
    "        if categories == \"All Categories\":\n",
    "            if KeywordArt.title.count() == 0:\n",
    "              print(\"Not mathces found\")\n",
    "            else:\n",
    "              print(KeywordArt.title.count(),\" articles found\")\n",
    "              #output  \n",
    "              h = '<br/'.join(['<a href=\"' + l + '\" target=\"_blank\">'+ n for l,n in KeywordArt[[\"url\",\"title\"]][0:Top_articles].values])\n",
    "              return display(HTML( h))\n",
    "              \n",
    "        else:\n",
    "          candidate = KeywordArt[KeywordArt['categories'].str.contains(categories)]\n",
    "          if candidate.title.count() == 0:\n",
    "            print(\"Not mathces found\")\n",
    "          else:\n",
    "            print(candidate.title.count(),\" articles found\")\n",
    "            #output  \n",
    "            h = '<br/'.join(['<a href=\"' + l + '\" target=\"_blank\">'+ n for l,n in candidate[[\"url\",\"title\"]][0:Top_articles].values])\n",
    "            return display(HTML( h))\n",
    "\n",
    "    \n",
    "    \n",
    " \n",
    " ################ Else for title = 'string' #######################################################################################################\n",
    "  else:\n",
    "    #Abstract if \n",
    "    titleArt = data[data['title'].str.contains(title)]\n",
    "    if abstract == '':\n",
    "      # Keyword is\n",
    "      if Keywords == '':\n",
    "        if categories == \"All Categories\":\n",
    "          if titleArt.title.count() == 0:\n",
    "            print(\"Not mathces found\")\n",
    "          else:\n",
    "            print(titleArt.title.count(),\" articles found\")\n",
    "            #output  \n",
    "            h = '<br/'.join(['<a href=\"' + l + '\" target=\"_blank\">'+ n for l,n in titleArt[[\"url\",\"title\"]][0:Top_articles].values])\n",
    "            return display(HTML( h))\n",
    "            \n",
    "        else:\n",
    "          candidate = titleArt[titleArt['categories'].str.contains(categories)]\n",
    "          df1 = candidate[candidate['title'].str.contains(title)]\n",
    "          if df1.title.count() == 0:\n",
    "            print(\"Not mathces found\")\n",
    "          else:\n",
    "            print(df1.title.count(),\" articles found\")\n",
    "            #print(df1[:Top_articles.value])\n",
    "            #output  \n",
    "            h = '<br/'.join(['<a href=\"' + l + '\" target=\"_blank\">'+ n for l,n in df1[[\"url\",\"title\"]][0:Top_articles].values])\n",
    "            return display(HTML( h))\n",
    "\n",
    "      # Keyword == string\n",
    "      else:\n",
    "        KeywordArt = titleArt[titleArt['raw content'].str.contains(Keywords)]\n",
    "        if categories == \"All Categories\":\n",
    "          if KeywordArt.title.count() == 0:\n",
    "            print(\"Not mathces found\")\n",
    "          else:\n",
    "            print(KeywordArt.title.count(),\" articles found\")\n",
    "            #output  \n",
    "            h = '<br/'.join(['<a href=\"' + l + '\" target=\"_blank\">'+ n for l,n in KeywordArt[[\"url\",\"title\"]][0:Top_articles].values])\n",
    "            return display(HTML( h))\n",
    "            \n",
    "        else:\n",
    "          candidate = KeywordArt[KeywordArt['categories'].str.contains(categories)]\n",
    "          df1 = candidate[candidate['title'].str.contains(title)]\n",
    "          if df1.title.count() == 0:\n",
    "            print(\"Not mathces found\")\n",
    "          else:\n",
    "            print(df1.title.count(),\" articles found\")\n",
    "            #output  \n",
    "            h = '<br/'.join(['<a href=\"' + l + '\" target=\"_blank\">'+ n for l,n in df1[[\"url\",\"title\"]][0:Top_articles].values])\n",
    "            return display(HTML( h))\n",
    "\n",
    "\n",
    "\n",
    "    #else Abstract == string  \n",
    "    else:\n",
    "      abstractArt = titleArt[titleArt['abstract'].str.contains(abstract)]\n",
    "      # Keyword if\n",
    "      if Keywords == '':\n",
    "        if categories == \"All Categories\":\n",
    "          \n",
    "          if abstractArt.title.count() == 0:\n",
    "            print(\"Not mathces found\")\n",
    "          else:\n",
    "            print(abstractArt.title.count(),\" articles found\")\n",
    "            #output  \n",
    "            h = '<br/'.join(['<a href=\"' + l + '\" target=\"_blank\">'+ n for l,n in abstractArt[[\"url\",\"title\"]][0:Top_articles].values])\n",
    "            return display(HTML( h))\n",
    "            \n",
    "        else:\n",
    "          candidate = abstractArt[abstractArt['categories'].str.contains(categories)]\n",
    "          df1 = candidate[candidate['title'].str.contains(title)]\n",
    "          if df1.title.count() == 0:\n",
    "            print(\"Not mathces found\")\n",
    "          else:\n",
    "            print(df1.title.count(),\" articles found\")\n",
    "            #output  \n",
    "            h = '<br/'.join(['<a href=\"' + l + '\" target=\"_blank\">'+ n for l,n in df1[[\"url\",\"title\"]][0:Top_articles].values])\n",
    "            return display(HTML( h))\n",
    "\n",
    "\n",
    "\n",
    "\n",
    "      # Else Keyword == string\n",
    "      else:\n",
    "        KeywordArt = abstractArt[abstractArt['raw content'].str.contains(Keywords)]\n",
    "        if categories == \"All Categories\":\n",
    "          \n",
    "          if KeywordArt.title.count() == 0:\n",
    "            print(\"Not mathces found\")\n",
    "          else:\n",
    "            print(KeywordArt.title.count(),\" articles found\")\n",
    "            #output  \n",
    "            h = '<br/'.join(['<a href=\"' + l + '\" target=\"_blank\">'+ n for l,n in KeywordArt[[\"url\",\"title\"]][0:Top_articles].values])\n",
    "            return display(HTML( h))\n",
    "            \n",
    "        else:\n",
    "          candidate = KeywordArt[KeywordArt['categories'].str.contains(categories)]\n",
    "          df1 = candidate[candidate['title'].str.contains(title)]\n",
    "          if df1.title.count() == 0:\n",
    "            print(\"Not mathces found\")\n",
    "          else:\n",
    "            print(df1.title.count(),\" articles found\")\n",
    "            \n",
    "            #output  \n",
    "            h = '<br/'.join(['<a href=\"' + l + '\" target=\"_blank\">'+ n for l,n in df1[[\"url\",\"title\"]][0:Top_articles].values])\n",
    "            return display(HTML( h))\n"
   ]
  },
  {
   "cell_type": "code",
   "execution_count": 7,
   "metadata": {
    "extensions": {
     "jupyter_dashboards": {
      "version": 1,
      "views": {
       "default_view": {
        "hidden": true
       }
      }
     }
    },
    "id": "_xZpGKGrFyA4"
   },
   "outputs": [],
   "source": [
    "def query_build4():\n",
    "  style = {'description_width': 'initial'}\n",
    " \n",
    "  categories = widgets.Dropdown(\n",
    "      description='',\n",
    "      options=['All Categories','Health', 'Tourism',  'Energy', 'Agriculture', 'World trade' ],\n",
    "      value='All Categories',\n",
    "      style=style\n",
    "  )\n",
    "\n",
    "  Top_articles = widgets.IntSlider(\n",
    "      description='Display:',\n",
    "      tooltip='maximum:',\n",
    "      value=5,\n",
    "      min=1, \n",
    "      max = 30,\n",
    "      style=style\n",
    "  )\n",
    "  Top_articles.style.handle_color = 'lightblue'\n",
    "\n",
    "\n",
    "  Pick_dat = widgets.IntRangeSlider(\n",
    "      description=' ',\n",
    "      tooltip='maximum:',\n",
    "      value=[2010,2020],\n",
    "      min=1950, \n",
    "      max = 2021,\n",
    "      style=style\n",
    "  )\n",
    "\n",
    "  \n",
    "  Pick_dat.style.handle_color = 'lightblue'\n",
    "\n",
    "  Search_byTitle = widgets.Text(\n",
    "      value='',\n",
    "      placeholder='Type something',\n",
    "      description='',\n",
    "      disabled=False\n",
    "  )\n",
    "\n",
    "  Search_byAbstract = widgets.Text(\n",
    "      value='',\n",
    "      placeholder='Type something',\n",
    "      description='',\n",
    "      disabled=False\n",
    "  )\n",
    "\n",
    "  Keywords = widgets.Text(\n",
    "      value='',\n",
    "      placeholder='Type something',\n",
    "      description=' ',\n",
    "      disabled=False\n",
    "  )\n",
    "\n",
    "  form_item_layout = Layout(justify_content='space-between')\n",
    "\n",
    "  form_items = [\n",
    "      HBox([Label(value='Search by Title:'), Search_byTitle], layout=form_item_layout),\n",
    "      HBox([Label(value='Search in Abstract'), \n",
    "          Search_byAbstract], layout=form_item_layout),\n",
    "      HBox([Label(value='Keywords'),Keywords], layout=form_item_layout),\n",
    "      HBox([Label(value='Categories'), \n",
    "          categories], layout=form_item_layout),\n",
    "      HBox([Label(value='Year'), \n",
    "          Pick_dat], layout=form_item_layout)\n",
    "  ]\n",
    "\n",
    "  form = VBox(form_items, layout=Layout(\n",
    "      border='2px solid gray', padding='10px',\n",
    "      align_items='stretch', width='65%')\n",
    "  )\n",
    "\n",
    "  box2 = widgets.HBox([Top_articles])\n",
    "\n",
    "  out = widgets.interactive_output(AdvancedSearch, {'Top_articles': Top_articles, 'Keywords': Keywords, 'categories': categories, 'title':Search_byTitle, 'abstract':Search_byAbstract})\n",
    "\n",
    "  return display(form, box2, out)\n",
    "  "
   ]
  },
  {
   "cell_type": "code",
   "execution_count": 8,
   "metadata": {
    "extensions": {
     "jupyter_dashboards": {
      "version": 1,
      "views": {
       "default_view": {
        "hidden": true
       }
      }
     }
    },
    "id": "3i3DNsquEu7G"
   },
   "outputs": [],
   "source": [
    "def builder_Advanced():\n",
    "  output = widgets.Output()\n",
    "  style = {'description_width': 'initial'}\n",
    "  advanced_search = widgets.Button(\n",
    "      description='Advanced search',\n",
    "      button_style='primary',\n",
    "      tooltip='Click to download article',\n",
    "      disabled=False,\n",
    "      style=style )\n",
    "  \n",
    "  minimize = widgets.Button(\n",
    "    description='Minimize',\n",
    "    button_style='primary',\n",
    "    tooltip='Minimize',\n",
    "    disabled=False,\n",
    "    style=style)\n",
    "  display ( query_build2(),widgets.HBox([advanced_search]))\n",
    "  \n",
    " \n",
    "  def on_search_clicked(b):\n",
    "    clear_output()  \n",
    "    #call a function a function for getting articles according to a word\n",
    "    display ( query_build4(),widgets.HBox([minimize]))  \n",
    "  advanced_search.on_click(on_search_clicked)  \n",
    "\n",
    "  def on_minimize_clicked(b):\n",
    "    clear_output() \n",
    "    display ( query_build2(),widgets.HBox([advanced_search]))\n",
    "\n",
    "  minimize.on_click(on_minimize_clicked)\n"
   ]
  },
  {
   "cell_type": "code",
   "execution_count": 9,
   "metadata": {
    "colab": {
     "base_uri": "https://localhost:8080/",
     "height": 114,
     "referenced_widgets": [
      "26e997433689427292e6bf7f51eaf494",
      "7e7499da618a4c56a2a162df4e3feb07",
      "dc3cfbc9563a48f9a782bd98cf8bac42",
      "0fa4e682f88d4e4ba2c6af1a4aba60b0",
      "efb22450cdc64f39ab2a3b03adb9a909",
      "fa8fb1e2a55f49f29e4e130fbb0eeee3",
      "413ad01d6efa4bc280c688632b1d9b9d",
      "888aeba6bf8445468bc63f6b9cd847fa",
      "247e5189bcde4ab3a7dc740e37c2770c",
      "38d43d8ea34f49fb86b017b0d650e522",
      "100fcaa492154a41bdfeac298d8e6281",
      "01fb5f79f98440bc9c04562089c34e39",
      "393829cc6fda4cc09d5662a6a40e478e",
      "17d87e29ace5431fb5be8a2c02b2a8d3",
      "3a358ed941ee4d52b123677ca9d01ee8",
      "d4d1b4a07b724a299868d43d874182da",
      "ed6dd9e2baa849698cdf379a1db0e840",
      "6a16d72f09dd473eb9d0c0154fd15122",
      "2c0fdfed22224666b9cedd12c88b5bb7",
      "96c3e1f3f1ae4c02ada981de7f091e68",
      "4bbfc17bfa6b4a2497dcb27de688832d",
      "b12d982ce5f2471080c09183f53e57f1",
      "c0927e7ec26840d8a7d1bcbeb571e1ac",
      "c94216fdeba84e83b5cf7a9d1cd30e67",
      "ad8751b06d7545a6ba97f772a3ad3c63",
      "60e574f6db13471286f842a4a9cd7d58",
      "eef10ba025d54a9c9d4055bd88b23d41",
      "d6304bb5a9e94e92a4a754bcbf70b745",
      "a6979c9c684442828c2274410f3acf6c",
      "ac0bbd09600f49528fea5fedcf07107c",
      "46a6b34eb2134b93a6a629daf525cda2",
      "791e731661ad46cb88697c3f42cc521e",
      "58791b0b0b4446d0bb5caa2d7dfdf496",
      "4ce34f7272ca4dc8881e40eae0813bec",
      "d42d203dfeba45ef93e8520b58cb6e07",
      "3884f788c2e9421aa5b560e84496a81b",
      "5e8cc726ee4641f18235547c6e2fe6b6",
      "e34891a6cf4d46b684aafcb5c09817a5",
      "1b2377cb97204c82b623b34483572d96",
      "c2e4043cd3c543488c424dce44f8d26c",
      "2947f70051d04b23a3dd886439ba1a57",
      "d069276e12bf4624a2c6be0d899b716b",
      "cc182ff70a2e476fbdb2bd8c9795c663",
      "2767c9bc46df4a6b8e8c22eb80913572",
      "0e6babc13d2444f489b1c7fee4bda68f",
      "e958fade693e4a3b8befc850a7232884",
      "06330832861d4e63a30bda13e2fbc470",
      "e98e135cab3d4ceda6f73bb2e3ab3a60",
      "2c8f9f2356834b7d8f935b9ef283b1b9",
      "19bbfd089e9444dbaaea8b84a051d15b",
      "9e3b11bba5fb43e689434881414afeb9",
      "68e40ec4153f4263bf4bbb256ba59cac",
      "0358fbc136b14496b69ea0919b788551",
      "efd42e5ac979440da7f32c1e93470c6b",
      "29320b4610af411dabd6ee61ee3b0075",
      "d8ffbcf2a1964805b01160ca6dfd5ffa",
      "114523fb7c9949e78ef6840523fedadc",
      "188695244e6741ada84d1420e74011f6",
      "3935417e2927491f95914585750bc280",
      "d2043be68cde4092b8656d02722e2d10",
      "431be8381c9443898dda8a59143249b5",
      "08a03884908841e1b9ac51953ea11505",
      "97a24f09e59f412b90785197a3f0418c",
      "abed247716dd4eaa903a941da9492217",
      "461442191eaf4736bef70666f6b85d85",
      "7c537862e4a34217aa304b076ae0d88c",
      "0b9c3b2563334394b81238829b8e7611",
      "81dd10c8bb7b4dc888d96a2b0f1daa9b",
      "3a10cd316cbb4d0e9d7c52d080954871",
      "a579beb1684645d99230221b6a6c120f",
      "28e657400cb945919493cf8f2f4d133a",
      "90cc0eb651464acd93ed54427a0420cc",
      "6042a6b49a3842299bf1b1e39c372803",
      "c9f0063785b848a0b144bdd1e2d0f02d",
      "d746a32f20a64e81b1061044119af24d",
      "26129bae0ac24db38900949d6ec831f6",
      "7b18b16fd8224a4181e0b3bea8ead8f6",
      "a6bfc5c54520439a8121001b44524ac2",
      "32ed075fb49b4d6f8c368bdc363382eb",
      "a2df9f578d9e4db7a6007eb519add545",
      "8bac0db0342c43fd8ecd8eca96bd63da",
      "1f7743efcb574e43b34aa83c85484192",
      "ca7f2d2c733f4ba590d4776c7cbb2b3e",
      "4fb8bdaca7c0404093af7e8c04a0c941",
      "847e87ee8cee4cfeaaa15b0cf3682573",
      "223b43d778514602904aa7757e8b6260",
      "d3ec073ec866472d9e288c6f4ce24491",
      "3eb35d4eac9646b9b46ed1476a51d5a1",
      "74f657fe5ca54523a84ce27b8ebd7e5f"
     ]
    },
    "extensions": {
     "jupyter_dashboards": {
      "version": 1,
      "views": {
       "default_view": {
        "col": 0,
        "height": 6,
        "row": 32,
        "width": 12
       }
      }
     }
    },
    "id": "a4C0MXAiFI9o",
    "outputId": "af5c95b7-b31e-41eb-ea0f-e3b4714d4591"
   },
   "outputs": [
    {
     "data": {
      "application/vnd.jupyter.widget-view+json": {
       "model_id": "084dde0645284bd29c6c99e9795437db",
       "version_major": 2,
       "version_minor": 0
      },
      "text/plain": [
       "HBox(children=(Text(value='', description='Keywords:', placeholder='Type something'), Dropdown(description='Se…"
      ]
     },
     "metadata": {},
     "output_type": "display_data"
    },
    {
     "data": {
      "application/vnd.jupyter.widget-view+json": {
       "model_id": "35cf45baa0054368b9e9fdbaf16c3743",
       "version_major": 2,
       "version_minor": 0
      },
      "text/plain": [
       "Output()"
      ]
     },
     "metadata": {},
     "output_type": "display_data"
    },
    {
     "data": {
      "text/plain": [
       "None"
      ]
     },
     "metadata": {},
     "output_type": "display_data"
    },
    {
     "data": {
      "application/vnd.jupyter.widget-view+json": {
       "model_id": "aeb1e304a54045768c248a4cb2178480",
       "version_major": 2,
       "version_minor": 0
      },
      "text/plain": [
       "HBox(children=(Button(button_style='primary', description='Advanced search', style=ButtonStyle(), tooltip='Cli…"
      ]
     },
     "metadata": {},
     "output_type": "display_data"
    }
   ],
   "source": [
    "builder_Advanced()"
   ]
  },
  {
   "cell_type": "markdown",
   "metadata": {
    "extensions": {
     "jupyter_dashboards": {
      "version": 1,
      "views": {
       "default_view": {
        "col": 0,
        "height": 3,
        "row": 38,
        "width": 12
       }
      }
     }
    },
    "id": "cui5CvxSXgeF"
   },
   "source": [
    "### Scenario B: Facets\n",
    "***\n",
    "\n",
    "For this case scenario, we have implemented some query structures based on topic modelling and semantic analysis (Name Entity Recognition and their correspondive relations).\n"
   ]
  },
  {
   "cell_type": "markdown",
   "metadata": {
    "extensions": {
     "jupyter_dashboards": {
      "version": 1,
      "views": {
       "default_view": {
        "col": 0,
        "height": 5,
        "row": 41,
        "width": 12
       }
      }
     }
    },
    "id": "Ds9hctqy0VRl"
   },
   "source": [
    "#### **Topic Modelling - Related Articles**\n",
    "***\n",
    "This query scenario is based on datasets extracted by Topic Modelling with Gensim library. In particular, user has the potential to search articles according to the dominant topics, narrow down results by typing topic keywords or even to find related articles to topic keywords that are not necessarily articles of the selected dominant topic. \n",
    "\n",
    "Finally, by checking the *Explore topic keywords*, one could visualise the outcome of the topic modelling. "
   ]
  },
  {
   "cell_type": "code",
   "execution_count": 10,
   "metadata": {
    "extensions": {
     "jupyter_dashboards": {
      "version": 1,
      "views": {
       "default_view": {
        "hidden": true
       }
      }
     }
    },
    "id": "xgtdkCyMXgeI"
   },
   "outputs": [],
   "source": [
    "tm_topics = pd.read_csv('tm_topics.csv')\n",
    "df_topic_sents_keywords = pd.read_csv('df_topic_sents_keywords.csv')"
   ]
  },
  {
   "cell_type": "code",
   "execution_count": 11,
   "metadata": {
    "extensions": {
     "jupyter_dashboards": {
      "version": 1,
      "views": {
       "default_view": {
        "hidden": true
       }
      }
     }
    },
    "id": "g1NIQf2OXgeI"
   },
   "outputs": [],
   "source": [
    "def display_side_by_side(dfs:list, captions:list):\n",
    "    \"\"\"Display tables side by side to save vertical space\n",
    "    Input:\n",
    "        dfs: list of pandas.DataFrame\n",
    "        captions: list of table captions\n",
    "    \"\"\"\n",
    "    output = \"\"\n",
    "    combined = dict(zip(captions, dfs))\n",
    "    for caption, df in combined.items():\n",
    "        output += df.style.set_table_attributes(\"style='display:inline'\").set_caption(caption)._repr_html_()\n",
    "        output += \"\\xa0\\xa0\\xa0\"\n",
    "    display(HTML(output))"
   ]
  },
  {
   "cell_type": "code",
   "execution_count": 12,
   "metadata": {
    "extensions": {
     "jupyter_dashboards": {
      "version": 1,
      "views": {
       "default_view": {
        "hidden": true
       }
      }
     }
    },
    "id": "VsqfMBdiXgeJ"
   },
   "outputs": [],
   "source": [
    "def get_Related_Articles(selector,keyword,cloud):\n",
    "  topics = tm_topics[tm_topics['Topic name'].str.contains(selector)]\n",
    "  topicID = topics['Topic id'].values.tolist()\n",
    "  if cloud:\n",
    "    for i in topicID:\n",
    "      candidateArticles = df_topic_sents_keywords[df_topic_sents_keywords['Dominant_Topic']== i]\n",
    "      keywordArticles = df_topic_sents_keywords[df_topic_sents_keywords['Topic_Keywords'].str.contains(keyword)]\n",
    "      related = keywordArticles.drop(keywordArticles[keywordArticles['Dominant_Topic']==i].index)\n",
    "      #display_side_by_side([df1, df2, df3], ['caption1', 'caption2', 'caption3'])\n",
    "    return display_side_by_side([candidateArticles[['Text title']],related[['Text title']]], ['Articles on dominant topic selected', 'Articles related to keyword'])\n",
    "\n",
    "  else:\n",
    "    if keyword == '':\n",
    "      for i in topicID:\n",
    "        candidateArticles = df_topic_sents_keywords[df_topic_sents_keywords['Dominant_Topic']== i]\n",
    "      return display(candidateArticles[['Text title']])\n",
    "\n",
    "    else:\n",
    "      for i in topicID:\n",
    "        candidateArticles = df_topic_sents_keywords[df_topic_sents_keywords['Dominant_Topic']== i]\n",
    "        #candidateArticles = df_topic_sents_keywords[df_topic_sents_keywords['Topic_Keywords'].str.contains(keyword)]\n",
    "      return display(candidateArticles[['Text title']])\n",
    "    "
   ]
  },
  {
   "cell_type": "code",
   "execution_count": 13,
   "metadata": {
    "extensions": {
     "jupyter_dashboards": {
      "version": 1,
      "views": {
       "default_view": {
        "hidden": true
       }
      }
     }
    },
    "id": "XQ7yi2HxXgeJ"
   },
   "outputs": [],
   "source": [
    "def ShowRelatedArticles():\n",
    "  style = {'description_width': 'initial'}\n",
    "\n",
    "  selector =  widgets.Combobox(\n",
    "  placeholder='Choose a Title',\n",
    "  options=list(tm_topics['Topic name'].unique())+['All'],\n",
    "  description='Select topic')\n",
    " \n",
    "\n",
    "  cloud = widgets.Checkbox(\n",
    "      value=False,\n",
    "      description='Show related articles',\n",
    "      style=style\n",
    "  )\n",
    "  \n",
    "  Keywords = widgets.Text(\n",
    "      value='',\n",
    "      placeholder='Type something',\n",
    "      description='Keywords:',\n",
    "      disabled=False\n",
    "  )\n",
    "  ui  = widgets.HBox([selector, Keywords ,cloud]) \n",
    "  \n",
    "  \n",
    "\n",
    "\n",
    "  out = widgets.interactive_output(get_Related_Articles, {'selector':selector,'keyword': Keywords, 'cloud':cloud})\n",
    "\n",
    "  display(ui, out)"
   ]
  },
  {
   "cell_type": "code",
   "execution_count": 14,
   "metadata": {
    "colab": {
     "referenced_widgets": [
      "4853b35dc75346379c685e12ad7f159a",
      "c280974425c749d5954fcdaf2946c929"
     ]
    },
    "extensions": {
     "jupyter_dashboards": {
      "version": 1,
      "views": {
       "default_view": {
        "col": 0,
        "height": 9,
        "row": 47,
        "width": 7
       }
      }
     }
    },
    "id": "YineHbidXgeJ",
    "outputId": "3d5094fd-b0f2-4d42-d03e-7e88adeacc8a"
   },
   "outputs": [
    {
     "data": {
      "application/vnd.jupyter.widget-view+json": {
       "model_id": "dfbc40656ecd4944b69417e4379ec6c5",
       "version_major": 2,
       "version_minor": 0
      },
      "text/plain": [
       "HBox(children=(Combobox(value='', description='Select topic', options=('Technological product and process inno…"
      ]
     },
     "metadata": {},
     "output_type": "display_data"
    },
    {
     "data": {
      "application/vnd.jupyter.widget-view+json": {
       "model_id": "f8f382afe18f44bfb361d44735543425",
       "version_major": 2,
       "version_minor": 0
      },
      "text/plain": [
       "Output()"
      ]
     },
     "metadata": {},
     "output_type": "display_data"
    }
   ],
   "source": [
    "ShowRelatedArticles()"
   ]
  },
  {
   "cell_type": "markdown",
   "metadata": {
    "extensions": {
     "jupyter_dashboards": {
      "version": 1,
      "views": {
       "default_view": {
        "col": 0,
        "height": 5,
        "row": 71,
        "width": 12
       }
      }
     }
    },
    "id": "HAKNbgwTXgeL"
   },
   "source": [
    "####  **Named-Entity Recognition methods**\n",
    "***\n",
    "This query structure relies on Subject-Verb-Object triplets extracted for both Statistics Explained and Glossary articles. \n",
    "\n",
    "We have implemented 3 subcases. In all cases, the difference is on text box selection options. \n",
    "\n",
    "The user types keywords, and instantly proposing phrases are returned along with a list of articles. Also there is an option to display only either statistics explained or glossary articles. "
   ]
  },
  {
   "cell_type": "markdown",
   "metadata": {
    "extensions": {
     "jupyter_dashboards": {
      "version": 1,
      "views": {
       "default_view": {
        "col": 0,
        "height": 3,
        "row": 76,
        "width": 12
       }
      }
     }
    },
    "id": "xF1FBnsw5SSF"
   },
   "source": [
    "***\n",
    "##### Case 1: Proposing phrases are whole sentences containing at least one typed keyword\n",
    "***"
   ]
  },
  {
   "cell_type": "code",
   "execution_count": 15,
   "metadata": {
    "extensions": {
     "jupyter_dashboards": {
      "version": 1,
      "views": {
       "default_view": {
        "hidden": true
       }
      }
     }
    },
    "id": "8SFdF6F0XgeL"
   },
   "outputs": [],
   "source": [
    "ner = pd.read_excel('SVOs_all_5_24_17_37.xlsx')\n",
    "ner['SVOs_together'] = ner['Subject'] + ' ' + ner['Verb'] + ' ' + ner['Object']"
   ]
  },
  {
   "cell_type": "code",
   "execution_count": 16,
   "metadata": {
    "extensions": {
     "jupyter_dashboards": {
      "version": 1,
      "views": {
       "default_view": {
        "hidden": true
       }
      }
     }
    },
    "id": "cb9dRjocAFxS"
   },
   "outputs": [],
   "source": [
    "def NER_articles1(selector,Statistics_Explained,Glossaries,howmany):\n",
    "  # If Statistics_Explained == True, then show only Statistics Explained Articles\n",
    "  if Statistics_Explained:\n",
    "    candidateArticles = ner[ner['Sentence'].str.contains(selector)]\n",
    "    proposedArticles = candidateArticles[candidateArticles['Source'].str.contains('SE')]\n",
    "    proposedArticles = proposedArticles.drop_duplicates(subset=['Title'], keep='first')\n",
    "    # drop duplicated titles\n",
    "    print(proposedArticles.Title.count(),'Articles found.')\n",
    "    h = '<br/'.join(['<a href=\"' + l + '\" target=\"_blank\">'+ n for l,n in proposedArticles[[\"URL\",\"Title\"]][0:howmany].values])\n",
    "    return display(HTML(h))\n",
    "  \n",
    "  # If Glossaries == True, then show only Glossary articles\n",
    "  elif Glossaries:\n",
    "    candidateArticles = ner[ner['Sentence'].str.contains(selector)]\n",
    "    proposedArticles = candidateArticles[candidateArticles['Source'].str.contains('GL')]\n",
    "    proposedArticles = proposedArticles.drop_duplicates(subset=['Title'], keep='first')\n",
    "    # drop duplicated titles\n",
    "    print(proposedArticles.Title.count(),'Articles found.')\n",
    "    h = '<br/'.join(['<a href=\"' + l + '\" target=\"_blank\">'+ n for l,n in proposedArticles[[\"URL\",\"Title\"]][0:howmany].values])\n",
    "    return display(HTML(h))\n",
    "  \n",
    "  elif Statistics_Explained & Glossaries:\n",
    "    Statistics_Explained = False\n",
    "    candidateArticles = ner[ner['Sentence'].str.contains(selector)]\n",
    "    proposedArticles = candidateArticles[candidateArticles['Source'].str.contains('GL')]\n",
    "    proposedArticles = proposedArticles.drop_duplicates(subset=['Title'], keep='first')\n",
    "    # drop duplicated titles\n",
    "    print(proposedArticles.Title.count(),'Articles found.')\n",
    "    h = '<br/'.join(['<a href=\"' + l + '\" target=\"_blank\">'+ n for l,n in proposedArticles[[\"URL\",\"Title\"]][0:howmany].values])\n",
    "    return display(HTML(h))\n",
    "\n",
    "\n",
    "  else:\n",
    "    candidateArticles = ner[ner['Sentence'].str.contains(selector)]\n",
    "    candidateArticles = candidateArticles.drop_duplicates(subset=['Title'], keep='first')\n",
    "    print(candidateArticles.Title.count(),'Articles found.')\n",
    "    h = '<br/'.join(['<a href=\"' + l + '\" target=\"_blank\">'+ n for l,n in candidateArticles[[\"URL\",\"Title\"]][0:howmany].values])\n",
    "    return display(HTML(h))\n"
   ]
  },
  {
   "cell_type": "code",
   "execution_count": 17,
   "metadata": {
    "extensions": {
     "jupyter_dashboards": {
      "version": 1,
      "views": {
       "default_view": {
        "hidden": true
       }
      }
     }
    },
    "id": "zyEUer5u-OvS"
   },
   "outputs": [],
   "source": [
    "def NER_builder1():\n",
    "  style = {'description_width': 'initial'}\n",
    "\n",
    "  selector =  widgets.Combobox(\n",
    "    placeholder='Type something, e.g., EU, ASEA etc.',\n",
    "    options=list(ner['Sentence'].unique()),\n",
    "    description='Search')\n",
    "  \n",
    "  Statistics_Explained = widgets.Checkbox(\n",
    "    value=False,\n",
    "    description='Only Statistics Explained',\n",
    "    style=style)\n",
    "  \n",
    "  Glossaries = widgets.Checkbox(\n",
    "    value=False,\n",
    "    description='Only Glossaries',\n",
    "    style=style)\n",
    "  \n",
    "  howmany = widgets.IntSlider(\n",
    "    description='Display:',\n",
    "    tooltip='maximum:',\n",
    "    value=5,\n",
    "    min=1, \n",
    "    max = 30,\n",
    "    style=style )\n",
    "  howmany.style.handle_color = 'lightblue'\n",
    "  \n",
    "  ui = widgets.HBox([selector,Statistics_Explained,Glossaries, howmany])\n",
    "  out = widgets.interactive_output(NER_articles1, {'selector':selector,'Statistics_Explained': Statistics_Explained, 'Glossaries':Glossaries, 'howmany':howmany})\n",
    "\n",
    "\n",
    "  display(ui,out)"
   ]
  },
  {
   "cell_type": "code",
   "execution_count": 18,
   "metadata": {
    "colab": {
     "base_uri": "https://localhost:8080/",
     "height": 686,
     "referenced_widgets": [
      "de53410912534fa88aa93e06cb8e1120",
      "a14b6bd3f4aa498da7cdc8a289cf5fa7",
      "321d43d3b4c24f85bed452c50e6df076",
      "4397ec9b6f6c41b5849b1c34ac0b438e",
      "8a94d0ad44844a0ca8abff9053358978",
      "1215eece5bb2427fb1e90584272c04cc",
      "da072da8c20547b788107637a4bbcf4a",
      "2feec830e5044337aa092e31cba33e2b",
      "de0c0241500d41ac819059946a218f56",
      "eb745c45c75d4d2d83e0a92c487a926f",
      "c6fa3ec9a6694af780c0239d15f24146",
      "8f6e9671147f41dc992dfbd1af269ddd",
      "04fbc4df96034124a02124bdc5fc8df3",
      "a1ea76c41b054ae7a00e871a077b0505",
      "24c2c37826624abc8f5f064079c6e5cb",
      "00cb8fb4912a432c806cd461063894a0",
      "c087bed816604ce483b79e5166f090e7",
      "250bec540aea4883b51cecfcb0739568",
      "b185a554941f4c66a08b4ed82e72ccf2",
      "71e10b870b464e638ecf3d7f22855419",
      "604ebc0f825f4076b859399b8bf371f3",
      "4e8341ac977249138f7405c2d19dbad0",
      "c23e270bcb9840ec92d42ff32f6dc1fb",
      "c028f3daa0d54d8182f948e48116a798",
      "7864ba0c212a4718843e801c77cc93d5",
      "22a92a537fb64f259194d82d0d836234",
      "fbed7aadf0d141938e65d1225ae860de",
      "75f10fda40474274a5b4ce753ce6e643",
      "bb7ecd539f0a4ce3807ea315ef74be5b",
      "01da4c029b9041df92af4b7ce38bf1c6",
      "f43e9595e3f24f82a1a9b22c3ca15e9f",
      "c058514cb3904073be608b51eafa5b44",
      "71a1c2acc8da435fa9fb0737b9d9bc19",
      "5ff1b64ccd364ce2ae250cc057071923",
      "c2d36618ed6a44bf9046e394d0128ae9",
      "2217f054081346e89c52c40955747877",
      "f493a3deb7c242aeb43d1475657804d5",
      "ef44a54b87f74d0c9a49f1b964b35bb8",
      "5b0624a3c2914edbb2cca07643b5fde5",
      "9e73b5ad3a1b436c986299b87657ad69",
      "d0c58ea6f6444ac287b1edb5d57716af",
      "c12756894f374319903acf44a90504f4",
      "7eebc2a1209745e6a5d1a7fedfeada85"
     ]
    },
    "extensions": {
     "jupyter_dashboards": {
      "version": 1,
      "views": {
       "default_view": {
        "col": 0,
        "height": 7,
        "row": 79,
        "width": 12
       }
      }
     }
    },
    "id": "rJWU94mY_GPN",
    "outputId": "96e5af1c-914d-463e-ccfc-818c47fed852"
   },
   "outputs": [
    {
     "data": {
      "application/vnd.jupyter.widget-view+json": {
       "model_id": "a911684d06cc4e61a11529519d1c5e7d",
       "version_major": 2,
       "version_minor": 0
      },
      "text/plain": [
       "HBox(children=(Combobox(value='', description='Search', options=('This vision was confirmed by a Council Recom…"
      ]
     },
     "metadata": {},
     "output_type": "display_data"
    },
    {
     "data": {
      "application/vnd.jupyter.widget-view+json": {
       "model_id": "d9e705a539e040b0b1744ec0630e2e6b",
       "version_major": 2,
       "version_minor": 0
      },
      "text/plain": [
       "Output()"
      ]
     },
     "metadata": {},
     "output_type": "display_data"
    }
   ],
   "source": [
    "NER_builder1()"
   ]
  },
  {
   "cell_type": "markdown",
   "metadata": {
    "extensions": {
     "jupyter_dashboards": {
      "version": 1,
      "views": {
       "default_view": {
        "col": 0,
        "height": 3,
        "row": 86,
        "width": 12
       }
      }
     }
    },
    "id": "BP4v9aT98cp8"
   },
   "source": [
    "***\n",
    "##### Case 2: proposing not phrases but organizations, countries etc.\n",
    "***"
   ]
  },
  {
   "cell_type": "code",
   "execution_count": 19,
   "metadata": {
    "extensions": {
     "jupyter_dashboards": {
      "version": 1,
      "views": {
       "default_view": {
        "hidden": true
       }
      }
     }
    },
    "id": "WI4vq8Csu097"
   },
   "outputs": [],
   "source": [
    "def NER_articles2(selector,Statistics_Explained,Glossaries,howmany):\n",
    "  # If Statistics_Explained == True, then show only Statistics Explained Articles\n",
    "  if Statistics_Explained:\n",
    "    candidateArticles = ner[ner['Key'].str.contains(selector)]\n",
    "    proposedArticles = candidateArticles[candidateArticles['Source'].str.contains('SE')]\n",
    "    proposedArticles = proposedArticles.drop_duplicates(subset=['Title'], keep='first')\n",
    "    # drop duplicated titles\n",
    "    print(proposedArticles.Title.count(),'Articles found.')\n",
    "    h = '<br/'.join(['<a href=\"' + l + '\" target=\"_blank\">'+ n for l,n in proposedArticles[[\"URL\",\"Title\"]][0:howmany].values])\n",
    "    return display(HTML(h))\n",
    "  # If Glossaries == True, then show only Glossary articles\n",
    "  elif Glossaries:\n",
    "    candidateArticles = ner[ner['Key'].str.contains(selector)]\n",
    "    proposedArticles = candidateArticles[candidateArticles['Source'].str.contains('GL')]\n",
    "    proposedArticles = proposedArticles.drop_duplicates(subset=['Title'], keep='first')\n",
    "    # drop duplicated titles\n",
    "    print(proposedArticles.Title.count(),'Articles found.')\n",
    "    h = '<br/'.join(['<a href=\"' + l + '\" target=\"_blank\">'+ n for l,n in proposedArticles[[\"URL\",\"Title\"]][0:howmany].values])\n",
    "    return display(HTML(h))\n",
    "  \n",
    "  elif Statistics_Explained & Glossaries:\n",
    "    Statistics_Explained = False\n",
    "    candidateArticles = ner[ner['Key'].str.contains(selector)]\n",
    "    proposedArticles = candidateArticles[candidateArticles['Source'].str.contains('GL')]\n",
    "    proposedArticles = proposedArticles.drop_duplicates(subset=['Title'], keep='first')\n",
    "    # drop duplicated titles\n",
    "    print(proposedArticles.Title.count(),'Articles found.')\n",
    "    h = '<br/'.join(['<a href=\"' + l + '\" target=\"_blank\">'+ n for l,n in proposedArticles[[\"URL\",\"Title\"]][0:howmany].values])\n",
    "    return display(HTML(h))\n",
    "\n",
    "\n",
    "  else:\n",
    "    candidateArticles = ner[ner['Key'].str.contains(selector)]\n",
    "    candidateArticles = candidateArticles.drop_duplicates(subset=['Title'], keep='first')\n",
    "    print(candidateArticles.Title.count(),'Articles found.')\n",
    "    h = '<br/'.join(['<a href=\"' + l + '\" target=\"_blank\">'+ n for l,n in candidateArticles[[\"URL\",\"Title\"]][0:howmany].values])\n",
    "    return display(HTML(h))\n"
   ]
  },
  {
   "cell_type": "code",
   "execution_count": 20,
   "metadata": {
    "extensions": {
     "jupyter_dashboards": {
      "version": 1,
      "views": {
       "default_view": {
        "hidden": true
       }
      }
     }
    },
    "id": "9fg3AnAEuJcu"
   },
   "outputs": [],
   "source": [
    "def NER_builder2():\n",
    "  style = {'description_width': 'initial'}\n",
    "\n",
    "  selector =  widgets.Combobox(\n",
    "    placeholder='Type something, e.g., EU, ASEA etc.',\n",
    "    options=list(ner['Key'].unique()),\n",
    "    description='Search')\n",
    "  \n",
    "  Statistics_Explained = widgets.Checkbox(\n",
    "    value=False,\n",
    "    description='Only Statistics Explained',\n",
    "    style=style)\n",
    "  \n",
    "  Glossaries = widgets.Checkbox(\n",
    "    value=False,\n",
    "    description='Only Glossaries',\n",
    "    style=style)\n",
    "  \n",
    "  howmany = widgets.IntSlider(\n",
    "    description='Display:',\n",
    "    tooltip='maximum:',\n",
    "    value=5,\n",
    "    min=1, \n",
    "    max = 30,\n",
    "    style=style )\n",
    "  howmany.style.handle_color = 'lightblue'\n",
    "  \n",
    "  ui = widgets.HBox([selector,Statistics_Explained,Glossaries, howmany])\n",
    "  out = widgets.interactive_output(NER_articles2, {'selector':selector,'Statistics_Explained': Statistics_Explained, 'Glossaries':Glossaries, 'howmany':howmany})\n",
    "\n",
    "\n",
    "  display(ui,out)\n"
   ]
  },
  {
   "cell_type": "code",
   "execution_count": 21,
   "metadata": {
    "colab": {
     "base_uri": "https://localhost:8080/",
     "height": 294,
     "referenced_widgets": [
      "1528bca3b6554e90b6f45baf9e9f08a7",
      "559b10adf29c470a87fb858028cf5661",
      "b2263774e3cc4840bfdc2af21cdcea99",
      "f6df460abf894751b9e5912ff8779018",
      "7a3c876e6fa84e8db5962aee6738c45c",
      "1074ae98d0224402a12e3ec63eb8c81e",
      "5307fe3b51cf46a5bc2b81153c98bae7",
      "da94fe9e4e34481b86e382bfd55340ed",
      "1d71c88c3fe042d68f3cc072a499a941",
      "3b855e08925148b4a96b456db647b0ab",
      "ff42ee016a0f4c39889a3c56ebadc76d",
      "d1a63582507447aaaac0b87e0586e63f",
      "d5081019db8f4add8eb0494ebea09f19",
      "c4aba32b7868474ead2c31b7872ad6dc",
      "4617016b8a924255b3629eba5474fd91",
      "46c4080c6f45498b9a1fc3781e812531",
      "cfa3ff9ae4414cd3ac17e4612f674d9c",
      "9eaf383f18cc492896e4a43f79182afa",
      "a212f7235a164f7fbeaca7af39822173",
      "509ba69584c1464b9be4630654407f06",
      "d6a1aa6b6ac64a9198cafef6fd43235e",
      "3ea555282a6c4072935f4f3d90d25f88",
      "49a60158700d4680ae39f8d527c3ea55",
      "2b4bb74b1f6040c9a828b1a34cb8ff0f",
      "7f2c878145d340d7a0cab8ee46b8fb58",
      "c1f58d74fa9d4f6ab64a6ff33aa50156",
      "923b19169e714a9ea19ef10eb33543a7",
      "a9e71a4d31ae4bd19bc035d19b30a8e5",
      "704860177226416e8f8e438cd293689f",
      "1bba38b80f464df7921cd3e2096e1d66",
      "2248c2d0fbb04d42b68bc923da0d33ae",
      "1e5ff9b629a248f58e1427339b21a59a",
      "64415ee8c9b94a1496a5defad5c460af",
      "fc00e50badd24ba0bbe5e8470659171a",
      "8c5fe5561e4a4ed3b9de73a8c17ca6ee",
      "f72e7f16f32c438888ae7642cb6892b4",
      "e65eaa52e5994672a04031481fd1f93f",
      "f772ad94814c40d6b6de9c536a2d133f",
      "01ff5f549bf3468eb9451d7f10469d17",
      "2b089ab543a242f9b7b19e82e82977a2"
     ]
    },
    "extensions": {
     "jupyter_dashboards": {
      "version": 1,
      "views": {
       "default_view": {
        "col": 0,
        "height": 8,
        "row": 89,
        "width": 12
       }
      }
     }
    },
    "id": "PvIR0D3PuP6Z",
    "outputId": "de576621-a29f-4978-87be-5e2037b138a8"
   },
   "outputs": [
    {
     "data": {
      "application/vnd.jupyter.widget-view+json": {
       "model_id": "cb702c65231245f3af108f02c209ccc0",
       "version_major": 2,
       "version_minor": 0
      },
      "text/plain": [
       "HBox(children=(Combobox(value='', description='Search', options=('A COUNCIL RECOMMENDATION', 'AAA', 'ACER', 'A…"
      ]
     },
     "metadata": {},
     "output_type": "display_data"
    },
    {
     "data": {
      "application/vnd.jupyter.widget-view+json": {
       "model_id": "424c8e2c36974723b18522cdd85ae790",
       "version_major": 2,
       "version_minor": 0
      },
      "text/plain": [
       "Output()"
      ]
     },
     "metadata": {},
     "output_type": "display_data"
    }
   ],
   "source": [
    "NER_builder2()"
   ]
  },
  {
   "cell_type": "markdown",
   "metadata": {
    "extensions": {
     "jupyter_dashboards": {
      "version": 1,
      "views": {
       "default_view": {
        "col": 0,
        "height": 3,
        "row": 97,
        "width": 12
       }
      }
     }
    },
    "id": "UPavJCsA9DDo"
   },
   "source": [
    "***\n",
    "##### Case 3: proposing phrases are based on entity-relation-entity triplets (again Subject-Verb-Object relations)\n",
    "***"
   ]
  },
  {
   "cell_type": "code",
   "execution_count": 22,
   "metadata": {
    "extensions": {
     "jupyter_dashboards": {
      "version": 1,
      "views": {
       "default_view": {
        "hidden": true
       }
      }
     }
    },
    "id": "uBzhVCPmx40_"
   },
   "outputs": [],
   "source": [
    "def NER_articles3(selector,Statistics_Explained,Glossaries,howmany):\n",
    "\n",
    "  # If Statistics_Explained == True, then show only Statistics Explained Articles\n",
    "  if Statistics_Explained:\n",
    "    candidateArticles = ner[ner['SVOs_together'].str.contains(selector)]\n",
    "    proposedArticles = candidateArticles[candidateArticles['Source'].str.contains('SE')]\n",
    "    proposedArticles = proposedArticles.drop_duplicates(subset=['Title'], keep='first')\n",
    "    # drop duplicated titles\n",
    "    print(proposedArticles.Title.count(),'Articles found.')\n",
    "    h = '<br/'.join(['<a href=\"' + l + '\" target=\"_blank\">'+ n for l,n in proposedArticles[[\"URL\",\"Title\"]][0:howmany].values])\n",
    "    return display(HTML(h))\n",
    "\n",
    "  # If Glossaries == True, then show only Glossary articles\n",
    "  elif Glossaries:\n",
    "    candidateArticles = ner[ner['SVOs_together'].str.contains(selector)]\n",
    "    proposedArticles = candidateArticles[candidateArticles['Source'].str.contains('GL')]\n",
    "    proposedArticles = proposedArticles.drop_duplicates(subset=['Title'], keep='first')\n",
    "    # drop duplicated titles\n",
    "    print(proposedArticles.Title.count(),'Articles found.')\n",
    "    h = '<br/'.join(['<a href=\"' + l + '\" target=\"_blank\">'+ n for l,n in proposedArticles[[\"URL\",\"Title\"]][0:howmany].values])\n",
    "    return display(HTML(h))\n",
    "  \n",
    "  elif Statistics_Explained & Glossaries:\n",
    "    Statistics_Explained = False\n",
    "    candidateArticles = ner[ner['SVOs_together'].str.contains(selector)]\n",
    "    proposedArticles = candidateArticles[candidateArticles['Source'].str.contains('GL')]\n",
    "    proposedArticles = proposedArticles.drop_duplicates(subset=['Title'], keep='first')\n",
    "    # drop duplicated titles\n",
    "    print(proposedArticles.Title.count(),'Articles found.')\n",
    "    h = '<br/'.join(['<a href=\"' + l + '\" target=\"_blank\">'+ n for l,n in proposedArticles[[\"URL\",\"Title\"]][0:howmany].values])\n",
    "    return display(HTML(h))\n",
    "\n",
    "\n",
    "  else:\n",
    "    candidateArticles = ner[ner['SVOs_together'].str.contains(selector)]\n",
    "    candidateArticles = candidateArticles.drop_duplicates(subset=['Title'], keep='first')\n",
    "    print(candidateArticles.Title.count(),'Articles found.')\n",
    "    h = '<br/'.join(['<a href=\"' + l + '\" target=\"_blank\">'+ n for l,n in candidateArticles[[\"URL\",\"Title\"]][0:howmany].values])\n",
    "    return display(HTML(h))\n"
   ]
  },
  {
   "cell_type": "code",
   "execution_count": 23,
   "metadata": {
    "extensions": {
     "jupyter_dashboards": {
      "version": 1,
      "views": {
       "default_view": {
        "hidden": true
       }
      }
     }
    },
    "id": "mccfpMEz0i3o"
   },
   "outputs": [],
   "source": [
    "def NER_builder3():\n",
    "  style = {'description_width': 'initial'}\n",
    "\n",
    "  selector =  widgets.Combobox(\n",
    "    placeholder='Type something, e.g., EU, ASEA etc.',\n",
    "    options=list(ner['SVOs_together'].unique()),\n",
    "    description='Search')\n",
    "  \n",
    "  Statistics_Explained = widgets.Checkbox(\n",
    "    value=False,\n",
    "    description='Only Statistics Explained',\n",
    "    style=style)\n",
    "  \n",
    "  Glossaries = widgets.Checkbox(\n",
    "    value=False,\n",
    "    description='Only Glossaries',\n",
    "    style=style)\n",
    "  \n",
    "  howmany = widgets.IntSlider(\n",
    "    description='Display:',\n",
    "    tooltip='maximum:',\n",
    "    value=5,\n",
    "    min=1, \n",
    "    max = 30,\n",
    "    style=style )\n",
    "  howmany.style.handle_color = 'lightblue'\n",
    "  \n",
    "  ui = widgets.HBox([selector,Statistics_Explained,Glossaries, howmany])\n",
    "  out = widgets.interactive_output(NER_articles3, {'selector':selector,'Statistics_Explained': Statistics_Explained, 'Glossaries':Glossaries, 'howmany':howmany})\n",
    "\n",
    "\n",
    "  display(ui,out)\n"
   ]
  },
  {
   "cell_type": "code",
   "execution_count": 24,
   "metadata": {
    "colab": {
     "base_uri": "https://localhost:8080/",
     "height": 210,
     "referenced_widgets": [
      "eb3cf084b3114ce0aea6c10e8646b935",
      "a70f3e4c85ea4f4797393366b7a7da60",
      "6581e9f199d14bcda6a6d63c18c80d81",
      "f3fab370759240b282c643d581713873",
      "a25f152bcaa3442397b6a5e48f0d4d4c",
      "1b102d0a89904475a88b7b0144a1be4a",
      "5ffb85cdf9034895858cac9a543f74d2",
      "370567bc69da4c6fa6ce99ec92ae00bb",
      "9a3c89eddcd141dfb675459df03f4daf",
      "1cf559453e2741aa8438369f800b968f",
      "db88b3af15c345ba86550fba95cff51c",
      "c86f80a885cf4c688ffed49cbcca24c2",
      "d0afd3cfa2ec467cbb79543ce4d4ddb5",
      "0bdcc381d42b47e68a3474206615b4d1",
      "6a6ddd7d455c4dd78eba950593ffd395",
      "f0141c40b8cf407bb44bc2031198ae9e",
      "c82f8015a71e4bf3b982207df69e7b9a",
      "a3bd11ea279940a494973021cc517433",
      "ce8578595ad7420baa887456f749f886",
      "01c2c3c86a7447858f39b88aa60b9fa3",
      "0e32cef38fcc46fb80a7262f029b71ee",
      "b9ddaa32699a43a4abf214f9e8f8ce73",
      "d3b81feee85e43d58b1e285a79d8e03e",
      "b749a5e1af624460a9c5011834178dfb",
      "bb780470243941618c39a01bfca1ea6c",
      "f8957eb28fef49e7bdf7258fa72f93fc",
      "1c41a365089c400a886311ffc4ba34d3",
      "9f402cc198b148c9bff5798ea2f357ff",
      "a7e92972da184a74bedbb30bea6139f6",
      "3d67ec33ae2b41f1ac1ff2d3fdc5069c",
      "b31fee4a48ce493c9b888978ec7ef207",
      "ece5e422b486409bab69e61101e92f41",
      "9d0ebc2d9b18460bbec59bb65e89420a",
      "b03214169fbf428e84ccfee023e697e4",
      "62e4c678f39541069cb8424b6deb7e0e",
      "46929bd78233424ea91b2b9cf9a7a5f8",
      "a40be3fef1af48cb8cff409b71dfcf7b"
     ]
    },
    "extensions": {
     "jupyter_dashboards": {
      "version": 1,
      "views": {
       "default_view": {
        "col": 0,
        "height": 7,
        "row": 100,
        "width": 12
       }
      }
     }
    },
    "id": "JFdtgbCX0uHN",
    "outputId": "9eb121f5-72b2-4c0c-97b8-59c49d5c8771"
   },
   "outputs": [
    {
     "data": {
      "application/vnd.jupyter.widget-view+json": {
       "model_id": "5c6ff5ecfeef48b6bbec4b37d99f62cb",
       "version_major": 2,
       "version_minor": 0
      },
      "text/plain": [
       "HBox(children=(Combobox(value='', description='Search', options=('a Council Recommendation on a comprehensive …"
      ]
     },
     "metadata": {},
     "output_type": "display_data"
    },
    {
     "data": {
      "application/vnd.jupyter.widget-view+json": {
       "model_id": "9b941f3bcfe54bdb907704fbe9caca46",
       "version_major": 2,
       "version_minor": 0
      },
      "text/plain": [
       "Output()"
      ]
     },
     "metadata": {},
     "output_type": "display_data"
    }
   ],
   "source": [
    "NER_builder3()"
   ]
  },
  {
   "cell_type": "markdown",
   "metadata": {
    "extensions": {
     "jupyter_dashboards": {
      "version": 1,
      "views": {
       "default_view": {
        "col": 0,
        "height": 9,
        "row": 107,
        "width": 12
       }
      }
     }
    },
    "id": "F3L70z0u_I6b"
   },
   "source": [
    "#### Alternative way of proposing related articles\n",
    "***\n",
    "We have also implemented an alterantive way of both exploring related articles and constructing query.\n",
    "\n",
    "The purpose of this facet refers to users who have find an interesting article and want to easily find related research without browsing all existing publications themself. Also,it is very useful for users who have a specific research question and want to discover relevant articles.\n",
    "\n",
    "At first we discover a number of topics using LDA (Latent Dirichlet Allocation). This allows us to view each article as a mixture of these topics. By mapping a specific article into the topic space, we can find related articles.\n",
    "\n",
    "Articles are proposed according to a k-nearest algorithm in topic space based on Jensen - Shannon measure. The Jensen–Shannon divergence is a method of measuring the similarity between two probability distributions.\n",
    "\n",
    "In this widget a user can insert any kind of text like abstract, paragraph, full text, keywords, questions and find related articles."
   ]
  },
  {
   "cell_type": "code",
   "execution_count": 25,
   "metadata": {
    "extensions": {
     "jupyter_dashboards": {
      "version": 1,
      "views": {
       "default_view": {
        "hidden": true
       }
      }
     }
    },
    "id": "G6-D3uujBCMN"
   },
   "outputs": [],
   "source": [
    "### Get Nearest Papers (in Topic Space) ###"
   ]
  },
  {
   "cell_type": "code",
   "execution_count": 26,
   "metadata": {},
   "outputs": [],
   "source": [
    "#Install/Load packages.\n",
    "\n",
    "import scispacy\n",
    "import spacy\n",
    "#import en_core_sci_lg\n",
    "import joblib\n",
    "\n",
    "from scipy.spatial.distance import jensenshannon\n",
    "from tqdm import tqdm\n",
    "from os.path import isfile\n",
    "\n",
    "import seaborn as sb\n",
    "import matplotlib.pyplot as plt\n",
    "plt.style.use(\"dark_background\")\n",
    "\n",
    "#nlp = spacy.load(\"en_core_web_sm\", disable=['parser', 'ner'])\n"
   ]
  },
  {
   "cell_type": "code",
   "execution_count": 27,
   "metadata": {},
   "outputs": [],
   "source": [
    "##### Latend Dirichlet Allocation ######\n",
    "#Prepare dataset.\n",
    "\n",
    "#all_texts = data['raw content']\n",
    "#all_texts[0][:500]\n",
    "\n",
    "def spacy_tokenizer(sentence):\n",
    "    return [word.lemma_ for word in nlp(sentence) if not (word.like_num or word.is_stop or word.is_punct or word.is_space or len(word)==1)]\n",
    "    \n",
    "#vectorizer = CountVectorizer(tokenizer = spacy_tokenizer, min_df=2)\n",
    "#data_vectorized = vectorizer.fit_transform(tqdm(all_texts))\n",
    "#data_vectorized.shape\n",
    "\n",
    "#Most frequent words.\n",
    "\n",
    "#word_count = pd.DataFrame({'word': vectorizer.get_feature_names(), 'count': np.asarray(data_vectorized.sum(axis=0))[0]})\n",
    "\n",
    "#word_count.sort_values('count', ascending=False).set_index('word')[:20].sort_values('count', ascending=True).plot(kind='barh')\n",
    "#joblib.dump(vectorizer, 'vectorizer.csv')\n",
    "vectorizer = joblib.load('vectorizer.csv')\n",
    "data_vectorized = joblib.load('data_vectorized.csv')\n",
    "#joblib.dump(data_vectorized, 'data_vectorized.csv')\n",
    "#lda = LatentDirichletAllocation(n_components=50, random_state=0)\n",
    "#lda.fit(data_vectorized)\n",
    "#joblib.dump(lda, 'lda.csv')\n",
    "\n",
    "lda = joblib.load('lda.csv')\n",
    "\n",
    "def print_top_words(model, vectorizer, n_top_words):\n",
    "    feature_names = vectorizer.get_feature_names()\n",
    "    for topic_idx, topic in enumerate(model.components_):\n",
    "        message = \"\\nTopic #%d: \" % topic_idx\n",
    "        message += \" \".join([feature_names[i]\n",
    "                             for i in topic.argsort()[:-n_top_words - 1:-1]])\n",
    "        print(message)\n",
    "    print()\n",
    "    \n",
    "#print_top_words(lda, vectorizer, n_top_words=25)\n",
    "doc_topic_dist = pd.DataFrame(lda.transform(data_vectorized))\n",
    "#doc_topic_dist.to_csv('doc_topic_dist.csv', index=False)\n"
   ]
  },
  {
   "cell_type": "code",
   "execution_count": 28,
   "metadata": {
    "extensions": {
     "jupyter_dashboards": {
      "version": 1,
      "views": {
       "default_view": {
        "hidden": true
       }
      }
     }
    },
    "id": "GLCfpwQdXgeP"
   },
   "outputs": [],
   "source": [
    "#Make variables 'title' and 'raw content' a list.\n",
    "\n",
    "tasks = data.set_index('title').to_dict()['raw content']"
   ]
  },
  {
   "cell_type": "code",
   "execution_count": 29,
   "metadata": {},
   "outputs": [],
   "source": [
    "article = data['raw content']\n",
    "\n",
    "def get_k_nearest_docs(doc_dist, k=5, lower=1950, upper=2020, get_dist=False):\n",
    "    '''\n",
    "    doc_dist: topic distribution (sums to 1) of one article\n",
    "    \n",
    "    Returns the index of the k nearest articles (as by Jensen–Shannon divergence in topic space). \n",
    "    '''\n",
    "    temp = doc_topic_dist\n",
    "\n",
    "    distances = temp.apply(lambda x: jensenshannon(x, doc_dist), axis=1)\n",
    "    k_nearest = distances[distances != 0].nsmallest(n=k).index\n",
    "    \n",
    "    if get_dist:\n",
    "        k_distances = distances[distances != 0].nsmallest(n=k)\n",
    "        return k_nearest, k_distances\n",
    "    else:\n",
    "        return k_nearest\n",
    "\n",
    "def plot_article_dna(title, width=20):\n",
    "    t = data[data.title == title].title.values[0]\n",
    "    doc_topic_dist[data.title== title].T.plot(kind='bar', legend=None, title=t, figsize=(width, 4))\n",
    "    plt.xlabel('Topic')\n",
    "\n",
    "def compare_dnas(title, recommendation_id, width=20):\n",
    "    t = data[data.title == recommendation_id].title.values[0]\n",
    "    temp = doc_topic_dist[data.title == title]\n",
    "    ymax = temp.max(axis=1).values[0]*1.25\n",
    "    temp = pd.concat([temp, doc_topic_dist[data.title == recommendation_id]])\n",
    "    temp.T.plot(kind='bar', title=t, figsize=(width, 4), ylim= [0, ymax])\n",
    "    plt.xlabel('Topic')\n",
    "    plt.legend(['Selection', 'Recommendation'])\n",
    "    \n",
    "def dna_tabs(title):\n",
    "    k = len(title)\n",
    "    outs = [widgets.Output() for i in range(k)]\n",
    "\n",
    "    tab = widgets.Tab(children = outs)\n",
    "    tab_titles = ['title ' + str(i+1) for i in range(k)]\n",
    "    for i, t in enumerate(tab_titles):\n",
    "        tab.set_title(i, t)\n",
    "    display(tab)\n",
    "\n",
    "    for i, t in enumerate(tab_titles):\n",
    "        with outs[i]:\n",
    "            ax = plot_article_dna(paper_ids[i])\n",
    "            plt.show(ax)\n",
    "\n",
    "def compare_tabs(title, recommendation_ids):\n",
    "    k = len(recommendation_ids)\n",
    "    outs = [widgets.Output() for i in range(k)]\n",
    "\n",
    "    tab = widgets.Tab(children = outs)\n",
    "    tab_titles = ['title ' + str(i+1) for i in range(k)]\n",
    "    for i, t in enumerate(tab_titles):\n",
    "        tab.set_title(i, t)\n",
    "    display(tab)\n",
    "\n",
    "    for i, t in enumerate(tab_titles):\n",
    "        with outs[i]:\n",
    "            ax = compare_dnas(title, recommendation_ids[i])\n",
    "            plt.show(ax)\n",
    "\n",
    "def recommendation(title, k=5, lower=1950, plot_dna=False):\n",
    "    '''\n",
    "    Returns the title of the k papers that are closest (topic-wise) to the paper given by id.\n",
    "    '''\n",
    "    \n",
    "    print(data.title[data.title ==title].values[0])\n",
    "\n",
    "    recommended, dist= get_k_nearest_docs(doc_topic_dist[data.title == title].iloc[0], k, lower, 10, get_dist=True)\n",
    "    recommended = data.iloc[recommended].copy()\n",
    "    recommended['similarity'] = 1 - dist \n",
    "    \n",
    "    h = '<br/>'.join(['<a href=\"' + l + '\" target=\"_blank\">'+ n + '</a>' +' (Similarity: ' + \"{:.2f}\".format(s) + ')' for l, n, s in recommended[['url','title', 'similarity']].values])\n",
    "    display(HTML(h))\n",
    "    \n",
    "    if plot_dna:\n",
    "        compare_tabs(title, recommended.title.values)\n",
    "              "
   ]
  },
  {
   "cell_type": "code",
   "execution_count": 30,
   "metadata": {
    "extensions": {
     "jupyter_dashboards": {
      "version": 1,
      "views": {
       "default_view": {
        "hidden": true
       }
      }
     }
    },
    "id": "YMnu10xaXgeQ"
   },
   "outputs": [],
   "source": [
    "def relevant_articles(tasks, k=3, lower=1950, upper=2020):\n",
    "    tasks = [tasks] if type(tasks) is str else tasks \n",
    "    \n",
    "    \n",
    "    tasks_vectorized = vectorizer.transform(tasks)\n",
    "    tasks_topic_dist = pd.DataFrame(lda.transform(tasks_vectorized))\n",
    "   \n",
    "    \n",
    "    for index, bullet in enumerate(tasks):\n",
    "        print(bullet)\n",
    "       \n",
    "        recommended = get_k_nearest_docs(tasks_topic_dist.iloc[index], k, lower, upper)\n",
    "        recommended = data.iloc[recommended]\n",
    "        \n",
    "        h = '<br/>'.join(['<a href=\"' + l + '\" target=\"_blank\">'+ n + '</a>' for l, n in recommended[['url','title']].values])\n",
    "        display(HTML(h))\n",
    "        \n",
    "      "
   ]
  },
  {
   "cell_type": "code",
   "execution_count": 31,
   "metadata": {
    "extensions": {
     "jupyter_dashboards": {
      "version": 1,
      "views": {
       "default_view": {
        "hidden": true
       }
      }
     }
    },
    "id": "E6Ag5CX-XgeQ"
   },
   "outputs": [],
   "source": [
    "#First_version\n",
    "def relevant_articles_for_text():    \n",
    "    textW = widgets.Textarea(\n",
    "        value='Tourism',\n",
    "        placeholder='Type something',\n",
    "        description='',\n",
    "        disabled=False,\n",
    "        layout=Layout(width='90%', height='100px')\n",
    "    )\n",
    "\n",
    "    yearW = widgets.IntRangeSlider(min=1950, max=2020, value=[2010, 2020], description='Year Range', \n",
    "                               continuous_update=False, layout=Layout(width='40%'))\n",
    "    kWidget = widgets.IntSlider(value=10, description='Display', max=50, min=1, layout=Layout(width='25%'))\n",
    "    button = widgets.Button(description=\"Search\")\n",
    "    style = {'description_width': 'initial'}\n",
    "    display(VBox([HBox([kWidget, yearW], layout=Layout(width='90%', justify_content='space-around')),\n",
    "        textW, button], layout=Layout(align_items='center')))\n",
    "\n",
    "    def on_button_clicked(b):\n",
    "        clear_output()\n",
    "        display(VBox([HBox([kWidget, yearW], layout=Layout(width='90%', justify_content='space-around')),\n",
    "            textW, button], layout=Layout(align_items='center')))  \n",
    "        relevant_articles(textW.value, kWidget.value, yearW.value[0], yearW.value[1])\n",
    "        \n",
    "    button.on_click(on_button_clicked)"
   ]
  },
  {
   "cell_type": "code",
   "execution_count": 32,
   "metadata": {
    "colab": {
     "referenced_widgets": [
      "de1e872f44604a69aaf13d020b23e7bc",
      "cab36c372e404e0c98e29639ef04e873"
     ]
    },
    "extensions": {
     "jupyter_dashboards": {
      "version": 1,
      "views": {
       "default_view": {
        "col": 0,
        "height": 6,
        "row": 117,
        "width": 12
       }
      }
     }
    },
    "id": "ttqUVag7XgeQ",
    "outputId": "10e95c22-8efe-47a5-c34c-8525fde604db"
   },
   "outputs": [
    {
     "data": {
      "application/vnd.jupyter.widget-view+json": {
       "model_id": "b35b253e85f14d92b7f8e1e1a2b60a53",
       "version_major": 2,
       "version_minor": 0
      },
      "text/plain": [
       "VBox(children=(HBox(children=(IntSlider(value=10, description='Display', layout=Layout(width='25%'), max=50, m…"
      ]
     },
     "metadata": {},
     "output_type": "display_data"
    }
   ],
   "source": [
    "relevant_articles_for_text()"
   ]
  },
  {
   "cell_type": "code",
   "execution_count": 33,
   "metadata": {},
   "outputs": [
    {
     "data": {
      "text/html": [
       "<script>\n",
       "code_show=true; \n",
       "function code_toggle() {\n",
       " if (code_show){\n",
       " $('div.input').hide();\n",
       " } else {\n",
       " $('div.input').show();\n",
       " }\n",
       " code_show = !code_show\n",
       "} \n",
       "$( document ).ready(code_toggle);\n",
       "</script>\n",
       "<form action=\"javascript:code_toggle()\"><input type=\"submit\" value=\"Click here to toggle on/off the raw code.\"></form>"
      ],
      "text/plain": [
       "<IPython.core.display.HTML object>"
      ]
     },
     "execution_count": 33,
     "metadata": {},
     "output_type": "execute_result"
    }
   ],
   "source": [
    "HTML('''<script>\n",
    "code_show=true; \n",
    "function code_toggle() {\n",
    " if (code_show){\n",
    " $('div.input').hide();\n",
    " } else {\n",
    " $('div.input').show();\n",
    " }\n",
    " code_show = !code_show\n",
    "} \n",
    "$( document ).ready(code_toggle);\n",
    "</script>\n",
    "<form action=\"javascript:code_toggle()\"><input type=\"submit\" value=\"Click here to toggle on/off the raw code.\"></form>''')"
   ]
  },
  {
   "cell_type": "code",
   "execution_count": null,
   "metadata": {},
   "outputs": [],
   "source": []
  }
 ],
 "metadata": {
  "colab": {
   "name": "D.3.1.Use Case A_new.ipynb",
   "provenance": []
  },
  "extensions": {
   "jupyter_dashboards": {
    "activeView": "default_view",
    "version": 1,
    "views": {
     "default_view": {
      "cellMargin": 10,
      "defaultCellHeight": 40,
      "maxColumns": 12,
      "name": "active_view",
      "type": "grid"
     }
    }
   }
  },
  "kernelspec": {
   "display_name": "Python 3",
   "language": "python",
   "name": "python3"
  },
  "language_info": {
   "codemirror_mode": {
    "name": "ipython",
    "version": 3
   },
   "file_extension": ".py",
   "mimetype": "text/x-python",
   "name": "python",
   "nbconvert_exporter": "python",
   "pygments_lexer": "ipython3",
   "version": "3.8.5"
  }
 },
 "nbformat": 4,
 "nbformat_minor": 1
}
